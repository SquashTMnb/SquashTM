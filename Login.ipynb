{
 "cells": [
  {
   "cell_type": "code",
   "execution_count": 1,
   "id": "d64d08f9",
   "metadata": {},
   "outputs": [],
   "source": [
    "import robot\n",
    "import subprocess\n",
    "from subprocess import Popen\n",
    "import os\n",
    "import webbrowser"
   ]
  },
  {
   "cell_type": "code",
   "execution_count": 2,
   "id": "68f8891e",
   "metadata": {},
   "outputs": [],
   "source": [
    "def run_batch_file(file_path):\n",
    "    Popen(file_path,creationflags=subprocess.CREATE_NEW_CONSOLE) "
   ]
  },
  {
   "cell_type": "code",
   "execution_count": 11,
   "id": "7dbbbc43",
   "metadata": {
    "scrolled": true
   },
   "outputs": [
    {
     "name": "stdout",
     "output_type": "stream",
     "text": [
      "Skip creating login folder, folder already exist \n"
     ]
    }
   ],
   "source": [
    "run_batch_file('WinAppDriver.bat')\n",
    "#Login\n",
    "output_dir = \"login\"\n",
    "output_file = os.path.join(output_dir, \"output.xml\")\n",
    "log_file = os.path.join(output_dir, \"log.html\")\n",
    "report_file = os.path.join(output_dir, \"report.html\")\n",
    "try:\n",
    "    os.mkdir(output_dir)\n",
    "except FileExistsError:\n",
    "    print('Skip creating login folder, folder already exist ')\n",
    "    \n",
    "finally:   \n",
    "    logFile = open('login/log.txt', 'w') \n",
    "    robot.run(\"testsNewVersion.robot\",stdout=logFile,         \n",
    "            output=output_file,\n",
    "            log=log_file,\n",
    "            report=report_file)\n",
    "    \n",
    "\n",
    "    "
   ]
  },
  {
   "cell_type": "code",
   "execution_count": 12,
   "id": "90c24b43",
   "metadata": {
    "scrolled": false
   },
   "outputs": [
    {
     "data": {
      "text/plain": [
       "True"
      ]
     },
     "execution_count": 12,
     "metadata": {},
     "output_type": "execute_result"
    }
   ],
   "source": [
    "new = 2 # open in a new tab, if possible\n",
    "path = os.getcwd() + \"\\\\\" + log_file\n",
    "webbrowser.open(path,new=new)"
   ]
  },
  {
   "cell_type": "code",
   "execution_count": 10,
   "id": "dba78dbb",
   "metadata": {},
   "outputs": [
    {
     "name": "stdout",
     "output_type": "stream",
     "text": [
      "C:\\Users\\nbouverat\\Documents\\Mon bureau Bac à sable\\Tests Automatisés NB\\login\\log.html\n"
     ]
    }
   ],
   "source": [
    "print(path)"
   ]
  },
  {
   "cell_type": "code",
   "execution_count": 32,
   "id": "f11d37fa",
   "metadata": {},
   "outputs": [],
   "source": [
    "run_batch_file('StartTFServer.bat')"
   ]
  },
  {
   "cell_type": "code",
   "execution_count": null,
   "id": "2bc8d1d4",
   "metadata": {},
   "outputs": [],
   "source": []
  }
 ],
 "metadata": {
  "kernelspec": {
   "display_name": "Python 3 (ipykernel)",
   "language": "python",
   "name": "python3"
  },
  "language_info": {
   "codemirror_mode": {
    "name": "ipython",
    "version": 3
   },
   "file_extension": ".py",
   "mimetype": "text/x-python",
   "name": "python",
   "nbconvert_exporter": "python",
   "pygments_lexer": "ipython3",
   "version": "3.9.13"
  }
 },
 "nbformat": 4,
 "nbformat_minor": 5
}
